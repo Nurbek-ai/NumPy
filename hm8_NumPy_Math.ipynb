{
 "cells": [
  {
   "cell_type": "markdown",
   "metadata": {},
   "source": [
    "<font size=\"5\" color=\"white\">NumPy Mathematical [41 exercises with solution]</font>"
   ]
  },
  {
   "cell_type": "markdown",
   "metadata": {},
   "source": [
    "1. Write a NumPy program to add, subtract, multiply, divide arguments element-wise.\n"
   ]
  },
  {
   "cell_type": "code",
   "execution_count": 1,
   "metadata": {},
   "outputs": [],
   "source": [
    "import numpy as np"
   ]
  },
  {
   "cell_type": "code",
   "execution_count": 2,
   "metadata": {},
   "outputs": [
    {
     "name": "stdout",
     "output_type": "stream",
     "text": [
      "[6 7 8]\n",
      "[4 5 6]\n",
      "[ 4  8 12]\n",
      "[ 4.  8. 12.]\n"
     ]
    }
   ],
   "source": [
    "arr = np.array([1, 2 ,3])\n",
    "\n",
    "arradd = arr + 5\n",
    "arrsub = arr - (-3) \n",
    "arrmul = arr * 4\n",
    "arrdiv = arr / 0.25\n",
    "\n",
    "print(arradd)\n",
    "print(arrsub)\n",
    "print(arrmul)\n",
    "print(arrdiv)"
   ]
  },
  {
   "cell_type": "markdown",
   "metadata": {},
   "source": [
    "2. Write a NumPy program to compute logarithm of the sum of exponentiations of the inputs, sum of exponentiations of the inputs in base-2.\n"
   ]
  },
  {
   "cell_type": "code",
   "execution_count": 3,
   "metadata": {},
   "outputs": [
    {
     "name": "stdout",
     "output_type": "stream",
     "text": [
      "-113.87649168120691\n",
      "-113.59955522772194\n"
     ]
    }
   ],
   "source": [
    "l1 = np.log(1e-50)\n",
    "l2 = np.log(2.5e-50)\n",
    "\n",
    "print(np.logaddexp(l1, l2))\n",
    "print(np.logaddexp2(l1, l2))"
   ]
  },
  {
   "cell_type": "markdown",
   "metadata": {},
   "source": [
    "3. Write a NumPy program to get true division of the element-wise array inputs.\n"
   ]
  },
  {
   "cell_type": "code",
   "execution_count": 4,
   "metadata": {},
   "outputs": [
    {
     "data": {
      "text/plain": [
       "array([0.        , 0.33333333, 0.66666667, 1.        , 1.33333333,\n",
       "       1.66666667, 2.        , 2.33333333, 2.66666667, 3.        ])"
      ]
     },
     "execution_count": 4,
     "metadata": {},
     "output_type": "execute_result"
    }
   ],
   "source": [
    "arr = np.array([0, 1, 2, 3, 4, 5, 6, 7, 8, 9])\n",
    "\n",
    "arr/3"
   ]
  },
  {
   "cell_type": "markdown",
   "metadata": {},
   "source": [
    "4. Write a NumPy program to get the largest integer smaller or equal to the division of the inputs.\n"
   ]
  },
  {
   "cell_type": "code",
   "execution_count": 7,
   "metadata": {},
   "outputs": [
    {
     "data": {
      "text/plain": [
       "array([0., 1., 2., 2.])"
      ]
     },
     "execution_count": 7,
     "metadata": {},
     "output_type": "execute_result"
    }
   ],
   "source": [
    "arr = np.array([1.0, 2.0, 3.0, 4.0])\n",
    "\n",
    "np.floor_divide(arr, 1.5)"
   ]
  },
  {
   "cell_type": "markdown",
   "metadata": {},
   "source": [
    "5. Write a NumPy program to get the powers of an array values element-wise.\n"
   ]
  },
  {
   "cell_type": "code",
   "execution_count": 8,
   "metadata": {},
   "outputs": [
    {
     "data": {
      "text/plain": [
       "array([  0,   1,   8,  27,  64, 125, 216])"
      ]
     },
     "execution_count": 8,
     "metadata": {},
     "output_type": "execute_result"
    }
   ],
   "source": [
    "arr = np.array([0, 1, 2, 3, 4, 5, 6])\n",
    "\n",
    "np.power(arr, 3)"
   ]
  },
  {
   "cell_type": "markdown",
   "metadata": {},
   "source": [
    "6. Write a NumPy program to get the element-wise remainder of an array of division.\n"
   ]
  },
  {
   "cell_type": "code",
   "execution_count": 10,
   "metadata": {},
   "outputs": [
    {
     "data": {
      "text/plain": [
       "array([0, 1, 2, 3, 4, 0, 1])"
      ]
     },
     "execution_count": 10,
     "metadata": {},
     "output_type": "execute_result"
    }
   ],
   "source": [
    "arr = np.arange(7)\n",
    "\n",
    "np.remainder(arr, 5)"
   ]
  },
  {
   "cell_type": "markdown",
   "metadata": {},
   "source": [
    "7. Write a NumPy program to calculate the absolute value element-wise.\n"
   ]
  },
  {
   "cell_type": "code",
   "execution_count": 11,
   "metadata": {},
   "outputs": [
    {
     "data": {
      "text/plain": [
       "array([ 10.2, 122.2,   0.2])"
      ]
     },
     "execution_count": 11,
     "metadata": {},
     "output_type": "execute_result"
    }
   ],
   "source": [
    "arr = np.array([ -10.2, 122.2, 0.2])\n",
    "\n",
    "np.absolute(arr)\n"
   ]
  },
  {
   "cell_type": "markdown",
   "metadata": {},
   "source": [
    "8. Write a NumPy program to round array elements to the given number of decimals.\n"
   ]
  },
  {
   "cell_type": "code",
   "execution_count": 12,
   "metadata": {},
   "outputs": [
    {
     "name": "stdout",
     "output_type": "stream",
     "text": [
      "[1. 2. 2.]\n",
      "[0.3 0.5 0.6]\n",
      "[0. 2. 2. 4. 4.]\n"
     ]
    }
   ],
   "source": [
    "x = np.round([1.45, 1.50, 1.55])\n",
    "print(x)\n",
    "\n",
    "x = np.round([0.28, .50, .64], decimals=1)\n",
    "print(x)\n",
    "\n",
    "x = np.round([.5, 1.5, 2.5, 3.5, 4.5])\n",
    "print(x) "
   ]
  },
  {
   "cell_type": "markdown",
   "metadata": {},
   "source": [
    "9. Write a NumPy program to round elements of the array to the nearest integer.\n"
   ]
  },
  {
   "cell_type": "code",
   "execution_count": 16,
   "metadata": {},
   "outputs": [
    {
     "data": {
      "text/plain": [
       "array([[-1., -2., -2.,  0.,  2.,  2.,  2.]])"
      ]
     },
     "execution_count": 16,
     "metadata": {},
     "output_type": "execute_result"
    }
   ],
   "source": [
    "arr = np.array([[-0.7, -1.5, -1.7, 0.3, 1.5, 1.8, 2. ]])\n",
    "\n",
    "np.rint(arr)"
   ]
  },
  {
   "cell_type": "markdown",
   "metadata": {},
   "source": [
    "10. Write a NumPy program to get the floor, ceiling and truncated values of the elements of a numpy array.\n"
   ]
  },
  {
   "cell_type": "code",
   "execution_count": 17,
   "metadata": {},
   "outputs": [
    {
     "name": "stdout",
     "output_type": "stream",
     "text": [
      "[-1. -1. -0.  0.  1.  1.  2.]\n",
      "[-1. -1. -0.  1.  2.  2.  2.]\n",
      "[-2. -2. -1.  0.  1.  1.  2.]\n"
     ]
    }
   ],
   "source": [
    "arr = np.array([-1.6, -1.5, -0.3, 0.1, 1.4, 1.8, 2. ])\n",
    "\n",
    "print(np.trunc(arr))\n",
    "print(np.ceil(arr))\n",
    "print(np.floor(arr))"
   ]
  },
  {
   "cell_type": "markdown",
   "metadata": {},
   "source": [
    "11. Write a NumPy program to multiply a 5x3 matrix by a 3x2 matrix and create a real matrix product.\n"
   ]
  },
  {
   "cell_type": "code",
   "execution_count": 19,
   "metadata": {},
   "outputs": [
    {
     "data": {
      "text/plain": [
       "array([[1.47747084, 0.12896372],\n",
       "       [1.81949964, 0.1281833 ],\n",
       "       [0.44642536, 0.78294824]])"
      ]
     },
     "execution_count": 19,
     "metadata": {},
     "output_type": "execute_result"
    }
   ],
   "source": [
    "arr = np.array([[ 0.44349753, 0.81043761, 0.00771825],\n",
    "[ 0.64004088, 0.86774612, 0.19944667],\n",
    "[ 0.61520091, 0.24796788, 0.93798297],\n",
    "[ 0.22156999, 0.61318856, 0.82348994],\n",
    "[ 0.91324026, 0.13411297, 0.00622696]])\n",
    "\n",
    "arr2 = np.array([[ 0.73873542, 0.06448186],\n",
    "[ 0.90974982, 0.06409165],\n",
    "[ 0.22321268, 0.39147412]])\n",
    "\n",
    "arr3 = arr2+arr2\n",
    "\n",
    "arr3"
   ]
  },
  {
   "cell_type": "markdown",
   "metadata": {},
   "source": [
    "12. Write a NumPy program to multiply a matrix by another matrix of complex numbers and create a new matrix of complex numbers.\n"
   ]
  },
  {
   "cell_type": "code",
   "execution_count": 22,
   "metadata": {},
   "outputs": [
    {
     "data": {
      "text/plain": [
       "np.complex128(70-8j)"
      ]
     },
     "execution_count": 22,
     "metadata": {},
     "output_type": "execute_result"
    }
   ],
   "source": [
    "arr1 = np.array([ 1.+2.j, 3.+4.j])\n",
    "\n",
    "arr2 = np.array([ 5.+6.j, 7.+8.j])\n",
    "\n",
    "arr3 = np.vdot(arr1, arr2)\n",
    "\n",
    "arr3\n"
   ]
  },
  {
   "cell_type": "markdown",
   "metadata": {},
   "source": [
    "13. Write a NumPy program to create an inner product of two arrays.\n"
   ]
  },
  {
   "cell_type": "code",
   "execution_count": 23,
   "metadata": {},
   "outputs": [
    {
     "data": {
      "text/plain": [
       "array([[ 14,  38,  62],\n",
       "       [ 86, 110, 134]])"
      ]
     },
     "execution_count": 23,
     "metadata": {},
     "output_type": "execute_result"
    }
   ],
   "source": [
    "x = np.array([[[ 0, 1, 2, 3],\n",
    "[ 4, 5, 6, 7],\n",
    "[ 8, 9, 10, 11]],\n",
    "[[12, 13, 14, 15],\n",
    "[16, 17, 18, 19],\n",
    "[20, 21, 22, 23]]])\n",
    "\n",
    "y = np.array([0, 1, 2, 3])\n",
    "\n",
    "z = np.inner(x, y)\n",
    "z"
   ]
  },
  {
   "cell_type": "markdown",
   "metadata": {},
   "source": [
    "14. Write a NumPy program to generate inner, outer, and cross products of matrices and vectors.\n"
   ]
  },
  {
   "cell_type": "code",
   "execution_count": 25,
   "metadata": {},
   "outputs": [
    {
     "name": "stdout",
     "output_type": "stream",
     "text": [
      "10\n",
      "-----------\n",
      "[[2 2 1]\n",
      " [8 8 4]\n",
      " [0 0 0]]\n",
      "-----------\n",
      "[ 4 -1 -6]\n"
     ]
    }
   ],
   "source": [
    "x = np.array([1, 4, 0])\n",
    "y = np.array([2, 2, 1])\n",
    "\n",
    "inner = np.inner(x, y)\n",
    "outer = np.outer(x, y)\n",
    "cross = np.cross(x, y)\n",
    "\n",
    "print(inner)\n",
    "print(\"-----------\")\n",
    "print(outer)\n",
    "print(\"-----------\")\n",
    "print(cross)"
   ]
  },
  {
   "cell_type": "markdown",
   "metadata": {},
   "source": [
    "15. Write a NumPy program to generate a matrix product of two arrays.\n"
   ]
  },
  {
   "cell_type": "code",
   "execution_count": 28,
   "metadata": {},
   "outputs": [
    {
     "data": {
      "text/plain": [
       "array([[3, 4],\n",
       "       [5, 6]])"
      ]
     },
     "execution_count": 28,
     "metadata": {},
     "output_type": "execute_result"
    }
   ],
   "source": [
    "x = np.array([[1, 0], [1, 1]])\n",
    "y = np.array([[3, 4], [2, 2]])\n",
    "\n",
    "pr_mt = np.matmul(x, y)\n",
    "\n",
    "pr_mt"
   ]
  },
  {
   "cell_type": "markdown",
   "metadata": {},
   "source": [
    "16. Write a NumPy program to find the roots of the following polynomials.\n"
   ]
  },
  {
   "cell_type": "code",
   "execution_count": 31,
   "metadata": {},
   "outputs": [
    {
     "name": "stdout",
     "output_type": "stream",
     "text": [
      "[1. 1.]\n",
      "---------------------------------------------------------------------\n",
      "[11.04461946+0.j        -0.8711421 +0.j         0.91326132+0.4531004j\n",
      "  0.91326132-0.4531004j]\n"
     ]
    }
   ],
   "source": [
    "print(np.roots([1, -2, 1]))\n",
    "print(\"---------------------------------------------------------------------\")\n",
    "print(np.roots([1, -12, 10, 7, -10]))"
   ]
  },
  {
   "cell_type": "markdown",
   "metadata": {},
   "source": [
    "17. Write a NumPy program to compute the following polynomial values.\n"
   ]
  },
  {
   "cell_type": "code",
   "execution_count": 32,
   "metadata": {},
   "outputs": [
    {
     "name": "stdout",
     "output_type": "stream",
     "text": [
      "1\n",
      "-142\n"
     ]
    }
   ],
   "source": [
    "print(np.polyval([1, -2, 1], 2))\n",
    "print(np.polyval([1, -12, 10, 7, -10], 3)) "
   ]
  },
  {
   "cell_type": "markdown",
   "metadata": {},
   "source": [
    "18. Write a NumPy program to add one polynomial to another, subtract one polynomial from another, multiply one polynomial by another and divide one polynomial by another.\n"
   ]
  },
  {
   "cell_type": "code",
   "execution_count": 33,
   "metadata": {},
   "outputs": [
    {
     "name": "stdout",
     "output_type": "stream",
     "text": [
      "[40. 60. 80.]\n",
      "(array([0.6]), array([-8., -4.]))\n",
      "[ 300. 1000. 2200. 2200. 1500.]\n",
      "[-20. -20. -20.]\n"
     ]
    }
   ],
   "source": [
    "from numpy.polynomial import polynomial as P\n",
    "\n",
    "x = (10, 20, 30)\n",
    "y = (30, 40, 50)\n",
    "\n",
    "print(P.polyadd(x,y))\n",
    "print(P.polydiv(x,y))\n",
    "print(P.polymul(x, y))\n",
    "print(P.polysub(x, y))"
   ]
  },
  {
   "cell_type": "markdown",
   "metadata": {},
   "source": [
    "19. Write a NumPy program to calculate mean across dimension, in a 2D numpy array.\n"
   ]
  },
  {
   "cell_type": "code",
   "execution_count": 37,
   "metadata": {},
   "outputs": [
    {
     "name": "stdout",
     "output_type": "stream",
     "text": [
      "[15. 45.]\n",
      "[20. 40.]\n"
     ]
    }
   ],
   "source": [
    "arr = np.array([[10, 30],\n",
    "[20, 60]])\n",
    "\n",
    "print(arr.mean(axis=0))\n",
    "print(arr.mean(axis=1))"
   ]
  },
  {
   "cell_type": "markdown",
   "metadata": {},
   "source": [
    "20. Write a NumPy program to create a random array with 1000 elements and compute the average, variance, standard deviation of the array elements.\n"
   ]
  },
  {
   "cell_type": "code",
   "execution_count": 40,
   "metadata": {},
   "outputs": [
    {
     "name": "stdout",
     "output_type": "stream",
     "text": [
      "50.0\n",
      "29.154759474226502\n",
      "850.0\n"
     ]
    }
   ],
   "source": [
    "arr = np.arange(101)\n",
    "\n",
    "print(arr.mean())\n",
    "print(arr.std())\n",
    "print(arr.var())"
   ]
  },
  {
   "cell_type": "markdown",
   "metadata": {},
   "source": [
    "21. Write a  NumPy program to compute the trigonometric sine, cosine and tangent array of angles given in degrees.\n"
   ]
  },
  {
   "cell_type": "code",
   "execution_count": 41,
   "metadata": {},
   "outputs": [
    {
     "name": "stdout",
     "output_type": "stream",
     "text": [
      "[0.         0.47942554 0.64963694 0.76175998 0.84147098]\n",
      "[0.54030231 0.64785934 0.7602446  0.87758256 1.        ]\n",
      "[ 0.          0.65138789  1.55740772 -6.14753307 -0.48456903]\n"
     ]
    }
   ],
   "source": [
    "angle1 = np.array([ 0., 0.5, 0.70710678, 0.8660254, 1., ])\n",
    "angle2 = np.array([ 1.00000000e+00, 8.66025404e-01, 7.07106781e-01, 5.00000000e-01, 6.12323400e-17])\n",
    "angle3 = np.array([ 0.00000000e+00, 5.77350269e-01, 1.00000000e+00, 1.73205081e+00, 1.63312394e+16])\n",
    "\n",
    "print(np.sin(angle1))\n",
    "print(np.cos(angle2))\n",
    "print(np.tan(angle3))"
   ]
  },
  {
   "cell_type": "markdown",
   "metadata": {},
   "source": [
    "22. Write a NumPy program to calculate inverse sine, inverse cosine, and inverse tangent for all elements in a given array.\n"
   ]
  },
  {
   "cell_type": "code",
   "execution_count": 43,
   "metadata": {},
   "outputs": [
    {
     "name": "stdout",
     "output_type": "stream",
     "text": [
      "[-1.57079633  0.          1.57079633]\n",
      "[3.14159265 1.57079633 0.        ]\n",
      "[-0.78539816  0.          0.78539816]\n"
     ]
    }
   ],
   "source": [
    "x = np.array([-1., 0, 1.])\n",
    "\n",
    "print(np.arcsin(x))\n",
    "print(np.arccos(x))\n",
    "print(np.arctan(x))"
   ]
  },
  {
   "cell_type": "markdown",
   "metadata": {},
   "source": [
    "23. Write a NumPy program to convert angles from radians to degrees for all elements in a given array.\n"
   ]
  },
  {
   "cell_type": "code",
   "execution_count": 46,
   "metadata": {},
   "outputs": [
    {
     "name": "stdout",
     "output_type": "stream",
     "text": [
      "[-180.  -90.   90.  180.]\n",
      "[-180.  -90.   90.  180.]\n"
     ]
    }
   ],
   "source": [
    "x = np.array([-np.pi, -np.pi/2, np.pi/2, np.pi])\n",
    "\n",
    "r1 = np.degrees(x)\n",
    "\n",
    "r2 = np.rad2deg(x)\n",
    "\n",
    "assert np.array_equiv(r1, r2)\n",
    "\n",
    "print(r1)\n",
    "print(r2)"
   ]
  },
  {
   "cell_type": "markdown",
   "metadata": {},
   "source": [
    "24. Write a NumPy program to convert angles from degrees to radians for all elements in a given array.\n"
   ]
  },
  {
   "cell_type": "code",
   "execution_count": 47,
   "metadata": {},
   "outputs": [
    {
     "name": "stdout",
     "output_type": "stream",
     "text": [
      "[-3.14159265 -1.57079633  1.57079633  3.14159265]\n"
     ]
    }
   ],
   "source": [
    "x = np.array([-180., -90., 90., 180.])\n",
    "\n",
    "a1 = np.radians(x)\n",
    "\n",
    "print(a1)"
   ]
  },
  {
   "cell_type": "markdown",
   "metadata": {},
   "source": [
    "25. Write a NumPy program to calculate hyperbolic sine, hyperbolic cosine, and hyperbolic tangent for all elements in a given array.\n"
   ]
  },
  {
   "cell_type": "code",
   "execution_count": 48,
   "metadata": {},
   "outputs": [
    {
     "name": "stdout",
     "output_type": "stream",
     "text": [
      "[-1.57079633  0.          1.57079633]\n",
      "[3.14159265 1.57079633 0.        ]\n",
      "[-0.78539816  0.          0.78539816]\n"
     ]
    }
   ],
   "source": [
    "arr = np.array([-1., 0, 1.])\n",
    "\n",
    "sin = np.arcsin(arr)\n",
    "cos = np.arccos(arr)\n",
    "tan = np.arctan(arr)\n",
    "\n",
    "print(sin)\n",
    "print(cos)\n",
    "print(tan)"
   ]
  },
  {
   "cell_type": "markdown",
   "metadata": {},
   "source": [
    "26. Write a NumPy program to calculate round, floor, ceiling, truncated and round (to the given number of decimals) of the input, element-wise of a given array.\n"
   ]
  },
  {
   "cell_type": "code",
   "execution_count": 52,
   "metadata": {},
   "outputs": [
    {
     "name": "stdout",
     "output_type": "stream",
     "text": [
      "[ 3.  3.  4.  2. -4. -4. -6.]\n",
      "[ 3.  4.  4.  3. -3. -4. -6.]\n",
      "[ 4.  4.  5.  3. -3. -3. -5.]\n",
      "[ 3.  3.  4.  2. -3. -3. -5.]\n"
     ]
    }
   ],
   "source": [
    "arr = np.array([ 3.1, 3.5, 4.5, 2.9, -3.1, -3.5, -5.9])\n",
    "\n",
    "floor = np.floor(arr)\n",
    "round = np.round(arr)\n",
    "ceiling = np.ceil(arr)\n",
    "truncate = np.trunc(arr)\n",
    "\n",
    "print(floor)\n",
    "print(round)\n",
    "print(ceiling)\n",
    "print(truncate)"
   ]
  },
  {
   "cell_type": "markdown",
   "metadata": {},
   "source": [
    "27. Write a NumPy program to calculate cumulative sum of the elements along a given axis, sum over rows for each of the 3 columns and sum over columns for each of the 2 rows of a given 3x3 array.\n"
   ]
  },
  {
   "cell_type": "code",
   "execution_count": 53,
   "metadata": {},
   "outputs": [
    {
     "name": "stdout",
     "output_type": "stream",
     "text": [
      "[ 1  3  6 10 15 21]\n",
      "[[1 2 3]\n",
      " [5 7 9]]\n",
      "[[ 1  3  6]\n",
      " [ 4  9 15]]\n"
     ]
    }
   ],
   "source": [
    "arr = np.array([[1, 2 ,3], [4, 5 ,6]])\n",
    "\n",
    "sum1 = np.cumsum(arr)\n",
    "sum2 = np.cumsum(arr, axis=0)\n",
    "sum3 = np.cumsum(arr, axis=1)\n",
    "\n",
    "print(sum1)\n",
    "print(sum2)\n",
    "print(sum3)"
   ]
  },
  {
   "cell_type": "markdown",
   "metadata": {},
   "source": [
    "28. Write a NumPy program to calculate cumulative product of the elements along a given axis, sum over rows for each of the 3 columns and product over columns for each of the 2 rows of a given 3x3 array.\n"
   ]
  },
  {
   "cell_type": "code",
   "execution_count": 54,
   "metadata": {},
   "outputs": [
    {
     "name": "stdout",
     "output_type": "stream",
     "text": [
      "[  1   2   6  24 120 720]\n",
      "[[ 1  2  3]\n",
      " [ 4 10 18]]\n",
      "[[  1   2   6]\n",
      " [  4  20 120]]\n"
     ]
    }
   ],
   "source": [
    "arr = np.array([[1, 2, 3],\n",
    "[4, 5, 6]])\n",
    "\n",
    "print(np.cumprod(arr))\n",
    "print(np.cumprod(arr, axis=0))\n",
    "print(np.cumprod(arr, axis=1))\n",
    "\n"
   ]
  },
  {
   "cell_type": "markdown",
   "metadata": {},
   "source": [
    "29. Write a NumPy program to calculate the difference between neighboring elements, element-wise of a given array.\n"
   ]
  },
  {
   "cell_type": "code",
   "execution_count": 55,
   "metadata": {},
   "outputs": [
    {
     "name": "stdout",
     "output_type": "stream",
     "text": [
      "[ 2  2  2 -7]\n"
     ]
    }
   ],
   "source": [
    "arr = np.array([1, 3, 5, 7, 0])\n",
    "\n",
    "print(np.diff(arr))"
   ]
  },
  {
   "cell_type": "markdown",
   "metadata": {},
   "source": [
    "30. Write a  NumPy program to calculate the difference between neighboring elements, element-wise, and prepend [0, 0] and append[200] to a given array.\n"
   ]
  },
  {
   "cell_type": "code",
   "execution_count": 56,
   "metadata": {},
   "outputs": [
    {
     "name": "stdout",
     "output_type": "stream",
     "text": [
      "[  0   0   2   2   2  -7 200]\n"
     ]
    }
   ],
   "source": [
    "x = np.array([1, 3, 5, 7, 0])\n",
    "\n",
    "r1 = np.ediff1d(x, to_begin=[0, 0], to_end=[200])\n",
    "\n",
    "r2 = np.insert(np.append(np.diff(x), 200), 0, [0, 0])\n",
    "\n",
    "assert np.array_equiv(r1, r2)\n",
    "\n",
    "print(r2) "
   ]
  },
  {
   "cell_type": "markdown",
   "metadata": {},
   "source": [
    "31. Write a NumPy program to compute ex, element-wise of a given array.\n"
   ]
  },
  {
   "cell_type": "code",
   "execution_count": 57,
   "metadata": {},
   "outputs": [
    {
     "name": "stdout",
     "output_type": "stream",
     "text": [
      "[ 2.71828183  7.3890561  20.08553692 54.59815003]\n"
     ]
    }
   ],
   "source": [
    "arr = np.array([1., 2., 3., 4.])\n",
    "\n",
    "pro = np.exp(arr)\n",
    "\n",
    "\n",
    "print(pro)\n"
   ]
  },
  {
   "cell_type": "markdown",
   "metadata": {},
   "source": [
    "32. Write a NumPy program to calculate exp(x) - 1 for all elements in a given array.\n"
   ]
  },
  {
   "cell_type": "code",
   "execution_count": 58,
   "metadata": {},
   "outputs": [
    {
     "name": "stdout",
     "output_type": "stream",
     "text": [
      "[ 1.71828183  6.3890561  19.08553692 53.59815003]\n"
     ]
    }
   ],
   "source": [
    "arr = np.array([1., 2., 3., 4.])\n",
    "\n",
    "exp = np.exp(arr)-1\n",
    "\n",
    "print(exp)"
   ]
  },
  {
   "cell_type": "markdown",
   "metadata": {},
   "source": [
    "33. Write a NumPy program to calculate 2p for all elements in a given array.\n"
   ]
  },
  {
   "cell_type": "code",
   "execution_count": 59,
   "metadata": {},
   "outputs": [
    {
     "name": "stdout",
     "output_type": "stream",
     "text": [
      "[2 4 6 8]\n"
     ]
    }
   ],
   "source": [
    "arr = np.array([1, 2, 3, 4])\n",
    "\n",
    "r2 =  arr*2\n",
    "\n",
    "print(r2)"
   ]
  },
  {
   "cell_type": "markdown",
   "metadata": {},
   "source": [
    "34. Write a NumPy program to compute natural, base 10, and base 2 logarithms for all elements in a given array.\n"
   ]
  },
  {
   "cell_type": "code",
   "execution_count": 60,
   "metadata": {},
   "outputs": [
    {
     "name": "stdout",
     "output_type": "stream",
     "text": [
      "\n",
      "Natural log = [0. 1. 2.]\n",
      "Common log = [0.         0.43429448 0.86858896]\n",
      "Base 2 log = [0.         1.44269504 2.88539008]\n"
     ]
    }
   ],
   "source": [
    "x = np.array([1, np.e, np.e**2])\n",
    "\n",
    "print(\"\\nNatural log =\", np.log(x))\n",
    "\n",
    "print(\"Common log =\", np.log10(x))\n",
    "\n",
    "print(\"Base 2 log =\", np.log2(x)) \n"
   ]
  },
  {
   "cell_type": "markdown",
   "metadata": {},
   "source": [
    "35. Write a NumPy program to compute the natural logarithm of one plus each element of a given array in floating-point accuracy.\n"
   ]
  },
  {
   "cell_type": "code",
   "execution_count": 61,
   "metadata": {},
   "outputs": [
    {
     "name": "stdout",
     "output_type": "stream",
     "text": [
      "[1.e-099 1.e-100]\n"
     ]
    }
   ],
   "source": [
    "x = np.array([1e-99, 1e-100])\n",
    "\n",
    "print(np.log1p(x)) \n"
   ]
  },
  {
   "cell_type": "markdown",
   "metadata": {},
   "source": [
    "36. Write a NumPy program to check element-wise True/False of a given array where signbit is set.\n"
   ]
  },
  {
   "cell_type": "code",
   "execution_count": 62,
   "metadata": {},
   "outputs": [
    {
     "name": "stdout",
     "output_type": "stream",
     "text": [
      "[ True  True  True  True False False False False False]\n"
     ]
    }
   ],
   "source": [
    "x = np.array([-4, -3, -2, -1, 0, 1, 2, 3, 4])\n",
    "\n",
    "r1 = np.signbit(x)\n",
    "\n",
    "r2 = x < 0\n",
    "\n",
    "assert np.array_equiv(r1, r2)\n",
    "\n",
    "print(r1)\n"
   ]
  },
  {
   "cell_type": "markdown",
   "metadata": {},
   "source": [
    "37. Write a NumPy program to change the sign of a given array to that of a given array, element-wise.\n"
   ]
  },
  {
   "cell_type": "code",
   "execution_count": 63,
   "metadata": {},
   "outputs": [
    {
     "name": "stdout",
     "output_type": "stream",
     "text": [
      "[-1. -0. -1. -2.]\n"
     ]
    }
   ],
   "source": [
    "x1 = np.array([-1, 0, 1, 2])\n",
    "\n",
    "x2 = -2.1\n",
    "print(np.copysign(x1, x2)) \n"
   ]
  },
  {
   "cell_type": "markdown",
   "metadata": {},
   "source": [
    "38. Write a NumPy program to compute numerical negative value for all elements in a given array.\n"
   ]
  },
  {
   "cell_type": "code",
   "execution_count": 65,
   "metadata": {},
   "outputs": [
    {
     "name": "stdout",
     "output_type": "stream",
     "text": [
      "[ 0  1 -1 -2]\n"
     ]
    }
   ],
   "source": [
    "x = np.array([0, -1, 1, 2])\n",
    "\n",
    "r2= np.negative(x)\n",
    "\n",
    "print(r2)"
   ]
  },
  {
   "cell_type": "markdown",
   "metadata": {},
   "source": [
    "39. Write a NumPy program to compute the reciprocal for all elements in a given array.\n"
   ]
  },
  {
   "cell_type": "code",
   "execution_count": 66,
   "metadata": {},
   "outputs": [
    {
     "name": "stdout",
     "output_type": "stream",
     "text": [
      "[1.         0.5        5.         3.33333333]\n"
     ]
    }
   ],
   "source": [
    "x = np.array([1., 2., .2, .3])\n",
    "\n",
    "\n",
    "\n",
    "r1 = np.reciprocal(x)\n",
    "\n",
    "r2 = 1/x\n",
    "\n",
    "assert np.array_equal(r1, r2)\n",
    "\n",
    "print(r1) \n"
   ]
  },
  {
   "cell_type": "markdown",
   "metadata": {},
   "source": [
    "40. Write a NumPy program to compute xy, element-wise where x, y are two given arrays.\n"
   ]
  },
  {
   "cell_type": "code",
   "execution_count": 67,
   "metadata": {},
   "outputs": [
    {
     "name": "stdout",
     "output_type": "stream",
     "text": [
      "Result- x^y:\n",
      "[[ 1  4]\n",
      " [ 3 16]]\n"
     ]
    }
   ],
   "source": [
    "x = np.array([[1, 2], [3, 4]])\n",
    "y = np.array([[1, 2], [1, 2]])\n",
    "\n",
    "r1 = np.power(x, y)\n",
    "\n",
    "print(\"Result- x^y:\")\n",
    "print(r1) \n"
   ]
  },
  {
   "cell_type": "markdown",
   "metadata": {},
   "source": [
    "41. Write a NumPy program to compute an element-wise indication of the sign for all elements in a given array.\n"
   ]
  },
  {
   "cell_type": "code",
   "execution_count": 69,
   "metadata": {},
   "outputs": [
    {
     "name": "stdout",
     "output_type": "stream",
     "text": [
      "[ 1  1  1  0 -1 -1  0  1]\n"
     ]
    }
   ],
   "source": [
    "x = np.array([1, 3, 5, 0, -1, -7, 0, 5])\n",
    "\n",
    "r1 = np.sign(x)\n",
    "\n",
    "r2 = np.copy(x)\n",
    "r2[r2 > 0] = 1 \n",
    "r2[r2 < 0] = -1  \n",
    "\n",
    "assert np.array_equal(r1, r2)\n",
    "\n",
    "print(r1)\n"
   ]
  }
 ],
 "metadata": {
  "kernelspec": {
   "display_name": "Python 3",
   "language": "python",
   "name": "python3"
  },
  "language_info": {
   "codemirror_mode": {
    "name": "ipython",
    "version": 3
   },
   "file_extension": ".py",
   "mimetype": "text/x-python",
   "name": "python",
   "nbconvert_exporter": "python",
   "pygments_lexer": "ipython3",
   "version": "3.12.6"
  }
 },
 "nbformat": 4,
 "nbformat_minor": 2
}
